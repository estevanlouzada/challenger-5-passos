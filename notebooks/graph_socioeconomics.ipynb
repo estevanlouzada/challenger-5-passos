{
 "cells": [
  {
   "cell_type": "code",
   "execution_count": 3,
   "metadata": {},
   "outputs": [],
   "source": [
    "import pandas as pd\n",
    "import numpy as np\n",
    "import streamlit as st\n",
    "import matplotlib.pyplot as plt\n",
    "import matplotlib.ticker as ticker\n",
    "import seaborn as sns\n"
   ]
  },
  {
   "cell_type": "code",
   "execution_count": 42,
   "metadata": {},
   "outputs": [],
   "source": [
    "# config pandas \n",
    "\n",
    "pd.set_option('display.max_columns', None)\n",
    "pd.set_option('display.max_rows', None)\n",
    "\n",
    "\n",
    "# Configurar pandas para exibir colunas inteiras\n",
    "pd.set_option('display.max_colwidth', None)\n"
   ]
  },
  {
   "cell_type": "code",
   "execution_count": 47,
   "metadata": {},
   "outputs": [],
   "source": [
    "df_alunos_idade = pd.read_csv('../data/powerbi_idade_aluno.csv', sep=',')\n",
    "df_aluno_genero = pd.read_csv('../data/powerbi_genero.csv', sep=',')\n",
    "df_motivo_inatividade = pd.read_csv('../data/powerbi_motivo_inativacao.csv', sep=',')\n"
   ]
  },
  {
   "cell_type": "code",
   "execution_count": null,
   "metadata": {},
   "outputs": [],
   "source": [
    "df_motivo_inatividade\n"
   ]
  },
  {
   "cell_type": "code",
   "execution_count": 109,
   "metadata": {},
   "outputs": [
    {
     "data": {
      "text/html": [
       "<div>\n",
       "<style scoped>\n",
       "    .dataframe tbody tr th:only-of-type {\n",
       "        vertical-align: middle;\n",
       "    }\n",
       "\n",
       "    .dataframe tbody tr th {\n",
       "        vertical-align: top;\n",
       "    }\n",
       "\n",
       "    .dataframe thead th {\n",
       "        text-align: right;\n",
       "    }\n",
       "</style>\n",
       "<table border=\"1\" class=\"dataframe\">\n",
       "  <thead>\n",
       "    <tr style=\"text-align: right;\">\n",
       "      <th></th>\n",
       "      <th>ANO</th>\n",
       "      <th>IAA</th>\n",
       "      <th>IEG</th>\n",
       "      <th>IPS</th>\n",
       "      <th>IDA</th>\n",
       "      <th>IPP</th>\n",
       "      <th>IPV</th>\n",
       "      <th>IAN</th>\n",
       "    </tr>\n",
       "  </thead>\n",
       "  <tbody>\n",
       "    <tr>\n",
       "      <th>0</th>\n",
       "      <td>2020</td>\n",
       "      <td>8.368882</td>\n",
       "      <td>7.681155</td>\n",
       "      <td>6.737448</td>\n",
       "      <td>6.322260</td>\n",
       "      <td>7.067859</td>\n",
       "      <td>7.242243</td>\n",
       "      <td>7.431224</td>\n",
       "    </tr>\n",
       "    <tr>\n",
       "      <th>1</th>\n",
       "      <td>2021</td>\n",
       "      <td>8.155702</td>\n",
       "      <td>6.842544</td>\n",
       "      <td>6.848977</td>\n",
       "      <td>5.430556</td>\n",
       "      <td>7.598538</td>\n",
       "      <td>7.429240</td>\n",
       "      <td>6.900585</td>\n",
       "    </tr>\n",
       "    <tr>\n",
       "      <th>2</th>\n",
       "      <td>2022</td>\n",
       "      <td>8.263065</td>\n",
       "      <td>7.880728</td>\n",
       "      <td>6.901102</td>\n",
       "      <td>6.070688</td>\n",
       "      <td>6.299364</td>\n",
       "      <td>7.247953</td>\n",
       "      <td>6.421114</td>\n",
       "    </tr>\n",
       "  </tbody>\n",
       "</table>\n",
       "</div>"
      ],
      "text/plain": [
       "    ANO       IAA       IEG       IPS       IDA       IPP       IPV       IAN\n",
       "0  2020  8.368882  7.681155  6.737448  6.322260  7.067859  7.242243  7.431224\n",
       "1  2021  8.155702  6.842544  6.848977  5.430556  7.598538  7.429240  6.900585\n",
       "2  2022  8.263065  7.880728  6.901102  6.070688  6.299364  7.247953  6.421114"
      ]
     },
     "execution_count": 109,
     "metadata": {},
     "output_type": "execute_result"
    }
   ],
   "source": [
    "df_2020 = pd.read_csv('../data/pede_2020.csv', sep=';')\n",
    "df_2021 = pd.read_csv('../data/pede_2021.csv', sep=';')\n",
    "df_2022 = pd.read_csv('../data/pede_2022.csv', sep=';')\n",
    "# df = df_tot['NOME','INSTITUICAO_ENSINO_ALUNO','IDADE_ALUNO','INDE','PEDRA','IAA','IEG','IPS','IDA','IPP','IPV','IAN','ANO','ANO_INGRESSO','INDICADO_BOLSA']\n",
    "pd.reset_option('display.max_colwidth')\n",
    "\n",
    "df_tot = pd.concat([df_2020, df_2021, df_2022], ignore_index=True)\n",
    "# df_tot[df_tot.columns[0]].value_counts()\n",
    "# df = df_tot.drop(df_tot.columns[0], axis=1).reset_index(drop=True)\n",
    "# df.head(5)\n",
    "# df.iloc[:, 0:5].head(10)\n",
    "# df.columns\n",
    "select = ['NOME', 'INDE', 'INDE_CONCEITO', 'PEDRA',  'IAA', 'IEG', 'IPS', 'IDA', 'IPP',\n",
    "       'IPV', 'IAN', 'ANO']\n",
    "\n",
    "selecao = df_tot[select]\n",
    "\n",
    "\n",
    "df_media = selecao.groupby(\"ANO\")[[\"IAA\", \"IEG\", \"IPS\", \"IDA\", \"IPP\", \"IPV\", \"IAN\"]].mean().reset_index()\n",
    "# rowa = selecao['PEDRA'].iloc[0]\n",
    "# rowa\n",
    "# selecao.iloc[0,:]\n",
    "df_media\n"
   ]
  },
  {
   "cell_type": "code",
   "execution_count": 107,
   "metadata": {},
   "outputs": [
    {
     "data": {
      "text/plain": [
       "[{'Ano': 2020, 'INDE': 7.296110577258139},\n",
       " {'Ano': 2020, 'IAA': 8.368881691884457},\n",
       " {'Ano': 2020, 'IEG': 7.681155433287483},\n",
       " {'Ano': 2020, 'IPS': 6.737448418156808},\n",
       " {'Ano': 2020, 'IDA': 6.322260430994956},\n",
       " {'Ano': 2020, 'IPP': 7.067858780375976},\n",
       " {'Ano': 2020, 'IPV': 7.242243402109124},\n",
       " {'Ano': 2020, 'IAN': 7.431224209078405},\n",
       " {'Ano': 2021, 'INDE': 6.888016081871346},\n",
       " {'Ano': 2021, 'IAA': 8.155701754385966},\n",
       " {'Ano': 2021, 'IEG': 6.8425438596491235},\n",
       " {'Ano': 2021, 'IPS': 6.848976608187134},\n",
       " {'Ano': 2021, 'IDA': 5.430555555555555},\n",
       " {'Ano': 2021, 'IPP': 7.598538011695907},\n",
       " {'Ano': 2021, 'IPV': 7.429239766081872},\n",
       " {'Ano': 2021, 'IAN': 6.900584795321637},\n",
       " {'Ano': 2022, 'INDE': 7.028338248723554},\n",
       " {'Ano': 2022, 'IAA': 8.263065301624131},\n",
       " {'Ano': 2022, 'IEG': 7.8807276444298315},\n",
       " {'Ano': 2022, 'IPS': 6.901102088167053},\n",
       " {'Ano': 2022, 'IDA': 6.070688321732404},\n",
       " {'Ano': 2022, 'IPP': 6.299364365815933},\n",
       " {'Ano': 2022, 'IPV': 7.247952555104408},\n",
       " {'Ano': 2022, 'IAN': 6.421113689095128}]"
      ]
     },
     "execution_count": 107,
     "metadata": {},
     "output_type": "execute_result"
    }
   ],
   "source": [
    "df_2020 = pd.read_csv('../data/pede_2020.csv', sep=';')\n",
    "df_2021 = pd.read_csv('../data/pede_2021.csv', sep=';')\n",
    "df_2022 = pd.read_csv('../data/pede_2022.csv', sep=';')        \n",
    "colunas_indicadores = ['INDE', 'IAA', 'IEG', 'IPS', 'IDA', 'IPP', 'IPV', 'IAN']\n",
    "\n",
    "# DataFrame consolidado para médias\n",
    "dados_consolidados = pd.DataFrame()\n",
    "dfs, anos = [df_2020[colunas_indicadores], df_2021[colunas_indicadores], df_2022[colunas_indicadores]], [2020, 2021, 2022]\n",
    "# DataFrame para armazenar os dados consolidados\n",
    "dados_consolidados = []\n",
    "for df, ano in zip(dfs, anos):\n",
    "    # Calcula a média para cada indicador\n",
    "    medias = df.mean()\n",
    "    for indicador, media in medias.items():\n",
    "        dados_consolidados.append({\"Ano\": ano, indicador: media})\n",
    "\n",
    "df_consolida = pd.DataFrame(dados_consolidados)\n",
    "\n",
    "dados_consolidados"
   ]
  },
  {
   "cell_type": "code",
   "execution_count": null,
   "metadata": {},
   "outputs": [],
   "source": []
  }
 ],
 "metadata": {
  "kernelspec": {
   "display_name": ".venv",
   "language": "python",
   "name": "python3"
  },
  "language_info": {
   "codemirror_mode": {
    "name": "ipython",
    "version": 3
   },
   "file_extension": ".py",
   "mimetype": "text/x-python",
   "name": "python",
   "nbconvert_exporter": "python",
   "pygments_lexer": "ipython3",
   "version": "3.12.8"
  }
 },
 "nbformat": 4,
 "nbformat_minor": 2
}
